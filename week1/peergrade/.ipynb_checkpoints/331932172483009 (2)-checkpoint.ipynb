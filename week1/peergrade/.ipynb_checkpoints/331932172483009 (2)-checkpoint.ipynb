{
 "cells": [
  {
   "cell_type": "markdown",
   "metadata": {},
   "source": [
    "Written by Marcus Svendstorp and Adam Baxter.\n",
    "\n",
    "See our solutions to Assignment Half-Moon in the same location as the questions for Assignment Half-Moon. See the bottom of the notebook for our solution to the MNIST exercise.\n",
    "\n",
    "Here we give solutions to five exercises from \"Neural Networks and Deep Learning\" by Nielsen. The first part of the exercise description are included.\n",
    "\n",
    "**Exercise page 13**: *Sigmoid neurons simulating perceptrons, part I*\n",
    "Consider an arbitrary perceptron in the network. By equation (2) in Nielsen chapter 1, the output is given by\n",
    "$$output = \\begin{cases}0 & \\text{if} \\ \\ \\sum_{j}w_jx_j + b\\leq 0  \\\\ 1& \\text{if} \\ \\ \\sum_{j}w_jx_j + b> 0 \\end{cases}$$\n",
    "When the weights and biases are multiplied by a constant $c>0$ we get\n",
    "$$output = \\begin{cases}0 & \\text{if} \\ \\ c\\left(\\sum_{j}w_jx_j + b\\right)\\leq 0  \\\\ 1& \\text{if} \\ \\ c\\left(\\sum_{j}w_jx_j + b\\right)> 0 \\end{cases}$$\n",
    "But the condition $\\sum_{j}w_jx_j + b\\leq 0$ is equivalent to the condition $c\\left(\\sum_{j}w_jx_j + b\\right)\\leq 0$ for all $c>0$ (and similarly for the other two conditions). Therefore we can conclude that the output of the perceptron is unchanged by multiplying weights and biases by the constant $c$. Since the perceptron was arbitrarily chosen, the outputs from all perceptrons are unchanged and the network behaves the same.\n",
    "\n",
    "**Exercise page 28**: *Prove the assertion of the last paragraph...*\n",
    "Given a function $C: \\mathbb{R}^N \\rightarrow \\mathbb{R}$ and a vector $v \\in \\mathbb{R}^N$, we want to choose $\\Delta v$ such that $(\\nabla C)(v) \\cdot \\Delta v$ is minimized. (From now on we write $\\nabla C$ in place of $(\\nabla C)(v)$ for brevity) It is required that $||\\Delta v || = \\epsilon$ for some small constant $\\epsilon > 0$. \n",
    "\n",
    "We claim that the choice $\\Delta v* = -\\frac{\\epsilon}{||\\nabla C||}\\nabla C$ minimizes $\\nabla C \\cdot \\Delta v$. To see this, we first compute the value of $\\nabla C \\cdot \\Delta v*$.\n",
    "\n",
    "\\begin{align*}\n",
    "\\nabla C \\cdot \\Delta v* &= - \\frac{\\epsilon}{\\nabla C}\\nabla C \\cdot \\nabla C\\\\\n",
    "&=- \\frac{\\epsilon}{\\nabla C}||\\nabla C||^2\\\\\n",
    "&=-\\epsilon ||\\nabla C||\n",
    "\\end{align*}\n",
    "\n",
    "Now we provide an upper bound on the absolute value of, using Cauchy–Schwarz inequality to reach the second line.\n",
    "\n",
    "\\begin{align*}|\\nabla C \\cdot \\Delta v| &= |<\\nabla C,\\Delta v>|\\\\ &\\leq ||\\nabla C|| \\ ||\\Delta v||\\\\\n",
    "&= \\epsilon ||\\nabla C|| \\end{align*}\n",
    "\n",
    "We see that the absolute value of $\\nabla C \\cdot \\Delta v$ cannot be greater than $\\epsilon ||\\nabla C||$. Therefore, the value $\\nabla C \\cdot \\Delta v$ cannot be lower than $-\\epsilon ||\\nabla C||$. This is in fact the value of $\\nabla C \\cdot \\Delta v*$. This shows that $\\Delta v*$ minimizes $\\nabla C \\cdot \\Delta v$.\n",
    "\n",
    "\n",
    "**Exercise page 28** *I explained gradient descent when is a function of\n",
    "variables, and when it's a function of more than two variables...*\n",
    "\n",
    "In one dimension, the gradient descent method can be realized as follows: Given a function $f$ and a learning rate $\\eta$, start at a point $v \\in \\mathbb{R}$. Compute $f'(v)$ and set $v'=v-\\eta f'(v)$. A geometric interpretation is the following: Start at a point $v, f(v)$ in the Cartesian plane. Move a certain distance along the tangent line for the function $f$. (There are two possible directions to move along the tangent line, choose the direction that decreases the y-coordinate of the position). The distance moved should be such that the x-coordinate of our position is changed by $-\\eta f'(v)$.\n",
    "\n",
    "**Exercise page 34** *Write out Equation (22) in component form, and verify that it gives the same result as the rule (4) for computing the output of a sigmoid neuron.*\n",
    "\n",
    "Let j be a fixed index. Then the j'th element of the vector a' in equation (22) can be computed as:\n",
    "\n",
    "\\begin{align*}\n",
    "a'(j) &= \\sigma(-\\sum_{k=1}^n W_{j,k}a_k-b_j)\\\\\n",
    "      &=\\frac{1}{1+exp(-\\sum_{k=1}^n W_{j,k}a_k-b_j)}\n",
    "\\end{align*}\n",
    "If we let $w$ equal to $j$'th row of $W$, then:\n",
    "\\begin{align*}a'(j) &)= &=\\frac{1}{1+exp(-\\sum_{k=1}^n w_k a_k-b_j)}\\end{align*}\n",
    "This is exactly the same as equation (4), except for the index on $b_j$. We conclude that the two equations give the same result.\n",
    "\n",
    "**Exercise page 38**: *An extreme version of gradient descent is to use a mini-batch size of just 1. That is...*\n",
    "There are advantages and disadvantages to using a single training input to approximate the gradient $\\nabla C$ of the cost-function compared to using e.g. 20 training inputs. An advantage is that computing the approximation to $\\nabla C$ only requires the calculation of two partial derivatives and is therefore very fast (roughly 20 times faster than when using 20 training inputs). A disadvantage is that the approximation of $\\nabla C$ is very rough and therefore we may take steps in a direction that is considerably less than optimal. Whether 1 or 20 training inputs is best depends on the specific input data that one is working with. Therefore optimal mini-batch size must be determined through experimentation."
   ]
  },
  {
   "cell_type": "code",
   "execution_count": 1,
   "metadata": {
    "collapsed": false
   },
   "outputs": [],
   "source": [
    "%matplotlib inline\n",
    "from __future__ import division, print_function\n",
    "import matplotlib\n",
    "import numpy as np\n",
    "import matplotlib.pyplot as plt\n",
    "import sklearn.datasets\n",
    "import theano\n",
    "import theano.tensor as T\n",
    "import lasagne\n",
    "\n",
    "def plot_decision_boundary(pred_func, X, y):\n",
    "    #from https://github.com/dennybritz/nn-from-scratch/blob/master/nn-from-scratch.ipynb\n",
    "    # Set min and max values and give it some padding\n",
    "    x_min, x_max = X[:, 0].min() - .5, X[:, 0].max() + .5\n",
    "    y_min, y_max = X[:, 1].min() - .5, X[:, 1].max() + .5\n",
    "    \n",
    "    h = 0.01\n",
    "    # Generate a grid of points with distance h between them\n",
    "    xx, yy = np.meshgrid(np.arange(x_min, x_max, h), np.arange(y_min, y_max, h))\n",
    "    \n",
    "    yy = yy.astype('float32')\n",
    "    xx = xx.astype('float32')\n",
    "    # Predict the function value for the whole gid\n",
    "    Z = pred_func(np.c_[xx.ravel(), yy.ravel()])[:,0]\n",
    "    Z = Z.reshape(xx.shape)\n",
    "    # Plot the contour and training examples\n",
    "    plt.figure()\n",
    "    plt.contourf(xx, yy, Z, cmap=plt.cm.RdBu)\n",
    "    plt.scatter(X[:, 0], X[:, 1], c=y, cmap=plt.cm.Spectral)\n",
    "\n",
    "def onehot(t, num_classes):\n",
    "    out = np.zeros((t.shape[0], num_classes))\n",
    "    for row, col in enumerate(t):\n",
    "        out[row, col] = 1\n",
    "    return out\n",
    "\n",
    "    "
   ]
  },
  {
   "cell_type": "markdown",
   "metadata": {},
   "source": [
    "# Neural networks 101\n",
    "In this notebook you will implement a simple neural network in Lasagne utilizing the automatic differentiation engine of Theano. We assume that you are already familiar with backpropagation (if not please cf. [Andrej Karpathy](http://cs.stanford.edu/people/karpathy/) or [Michael Nielsen](http://neuralnetworksanddeeplearning.com/chap2.html).\n",
    "We'll not spend much time on how Theano works, but you can go through [this short tutorial](http://nbviewer.jupyter.org/github/craffel/theano-tutorial/blob/master/Theano%20Tutorial.ipynb) if you are interested).\n",
    "\n",
    "Additionally, for the ambitious people we have previously made an assignment where you will implement both the forward and backpropagation in a neural network by hand, https://github.com/DTU-deeplearning/day1-NN/blob/master/exercises_1.ipynb. By following this you will get a thorough understanding of the deep learning basics.\n",
    "\n",
    "In this exercise we'll start by defining a logistic regression model in Lasagne/Theano. Some details of Theano can be a bit confusing. For now you should pay most attention to the high-level network construction in Lasagne. We'll initially start with a simple 2-D and 2-class classification problem where the class decision boundary can be visualized. Initially we show that logistic regression can only separate classes linearly. Adding a non-linear hidden layer to the algorithm permits nonlinear class separation. If time permits we'll continue on to implement a fully connected neural network to classify the (in)famous MNIST dataset consisting of images of hand written digits. \n"
   ]
  },
  {
   "cell_type": "markdown",
   "metadata": {},
   "source": [
    "# Problem \n",
    "We'll initally demonstrate that MLPs can classify non-linear problems whereas simple logistic regression cannot. For ease of visualization and computational speed we'll initially experiment on the simple 2D half-moon dataset."
   ]
  },
  {
   "cell_type": "code",
   "execution_count": 2,
   "metadata": {
    "collapsed": false
   },
   "outputs": [
    {
     "name": "stdout",
     "output_type": "stream",
     "text": [
      "Shape of the input matrix dim(300 x 2).\n",
      "Shape of the target matrix dim(300).\n"
     ]
    },
    {
     "data": {
      "image/png": "[encoded data removed]",
      "text/plain": [
       "<matplotlib.figure.Figure at 0x10cfa4fd0>"
      ]
     },
     "metadata": {},
     "output_type": "display_data"
    }
   ],
   "source": [
    "# Generate a dataset and plot it\n",
    "np.random.seed(0)\n",
    "num_samples = 300\n",
    "\n",
    "X, y = sklearn.datasets.make_moons(num_samples, noise=0.20)\n",
    "\n",
    "X_tr = X[:100].astype('float32')\n",
    "X_val = X[100:200].astype('float32')\n",
    "X_te = X[200:].astype('float32')\n",
    "\n",
    "y_tr = y[:100].astype('int32')\n",
    "y_val = y[100:200].astype('int32')\n",
    "y_te = y[200:].astype('int32')\n",
    "\n",
    "plt.scatter(X_tr[:,0], X_tr[:,1], s=40, c=y_tr, cmap=plt.cm.BuGn)\n",
    "\n",
    "print(\"Shape of the input matrix dim(%i x %i).\" % X.shape)\n",
    "print(\"Shape of the target matrix dim(%i).\" % y.shape)\n",
    "\n",
    "num_features = X_tr.shape[-1]"
   ]
  },
  {
   "cell_type": "markdown",
   "metadata": {},
   "source": [
    "# From Logistic Regression to \"Deep Learning\" in Lasagne\n",
    "The code implements logistic regression in Lasagne. In section __Assignments Half Moon__ you are asked to modify the code into a neural network. \n",
    "\n",
    "The building blocks of lasagne are the layers. To get started, the most frequently used layers are the DenseLayer and the InputLayer. \n",
    "\n",
    "The [InputLayer](http://lasagne.readthedocs.io/en/latest/modules/layers/input.html) is a \"special\" layer that lets you input data to the network. The InputLayer is initialized with a tuple specifying the shape of the input data. Note that it is common to provide ``None`` for the first dimension which allows you to vary the batch size at runtime. \n",
    "\n",
    "The [DenseLayer](http://lasagne.readthedocs.io/en/latest/modules/layers/dense.html) implements the computation: \n",
    "\n",
    "$$y = nonlinearity(xW + b)$$\n",
    "\n",
    "where $x$ is the layer input, $y$ is the layer output and $\\{W, b\\}$ are the layer parameters. The DenseLayer is initialized with a pointer to the previous layer, the desired number of units in the layer and the nonlinearity. \n",
    "x has shape ```[batchsize, num_features]```. From this we can infer the size of ```W``` as ```[num_features, num_units]``` and b as ```[num_units]```. y is then ```[batch_size, num_units]```.\n",
    "\n",
    "\n",
    "A layer in Lasagne does the following:\n",
    "1. Given the shape of the input $x$ and the number of units in the layer, Lasagne infers the shapes of $W$ and $b$ and keep track of the layer parameters.\n",
    "2. Computes $y = nonlinearity(xW + b)$"
   ]
  },
  {
   "cell_type": "code",
   "execution_count": 3,
   "metadata": {
    "collapsed": false
   },
   "outputs": [],
   "source": [
    "from lasagne.updates import sgd, adam, adamax # stochastic gradient descent optimization algorithm.\n",
    "from lasagne.nonlinearities import leaky_rectify, softmax, tanh, rectify, elu\n",
    "from lasagne.layers import InputLayer, DenseLayer\n",
    "\n",
    "\n",
    "#MODEL SPECIFICATION\n",
    "l_in = InputLayer(shape=(None, num_features))\n",
    "#INSERT HIDDEN LAYER H\n",
    "l_one = DenseLayer(incoming=l_in, num_units=200, nonlinearity=tanh, name='hiddenlayer1')\n",
    "l_two = DenseLayer(incoming=l_one, num_units=200, nonlinearity=tanh, name='hiddenlayer2')\n",
    "#l_three = DenseLayer(incoming=l_two, num_units=, nonlinearity=tanh, name='hiddenlayer3')\n",
    "l_out = DenseLayer(incoming=l_two, num_units=2, nonlinearity=softmax, name='outputlayer') \n",
    "#We use two output units since we have two classes. The softmax function ensures that the the class probabilities sum to 1."
   ]
  },
  {
   "cell_type": "markdown",
   "metadata": {},
   "source": [
    "After we have built the network we can use the helper functions of lasagne to \n",
    "\n",
    "1. Build the computational graph: __[lasagne.layers.get_output](http://lasagne.readthedocs.io/en/latest/modules/layers/helper.html#lasagne.layers.get_output)__ . The ``deterministic`` flag tells lasagne if we are in training mode or evaluation mode. When you build more complicated networks this is very important to remember! (Two important layers that behave differently in training mode and evaluation mode are the [DropoutLayer](http://lasagne.readthedocs.io/en/latest/modules/layers/noise.html#lasagne.layers.DropoutLayer) and the [BatchNormalizationLayer](http://lasagne.readthedocs.io/en/latest/modules/layers/normalization.html?highlight=batchnorm#lasagne.layers.BatchNormLayer)). Building the computational graph gives us the forward-pass of the network.  \n",
    "2. Collect the network parameters: __[lasagne.layers.get_all_params](http://lasagne.readthedocs.io/en/latest/modules/layers/helper.html#lasagne.layers.get_all_params)__ (Note the trainable flag which will only return parameters that are trainable. You'll get errors if your are using batchnorm and you forget this)\n",
    "\n",
    "Note that all the helper functions are called with the output layer or a list of output layers if you have multiple output layers. "
   ]
  },
  {
   "cell_type": "code",
   "execution_count": 4,
   "metadata": {
    "collapsed": false
   },
   "outputs": [
    {
     "name": "stdout",
     "output_type": "stream",
     "text": [
      "hiddenlayer1.W (2, 200)\n",
      "hiddenlayer1.b (200,)\n",
      "hiddenlayer2.W (200, 200)\n",
      "hiddenlayer2.b (200,)\n",
      "outputlayer.W (200, 2)\n",
      "outputlayer.b (2,)\n"
     ]
    }
   ],
   "source": [
    "sym_x = T.matrix('X') # a symbolic variable taking on the value of an input batch.\n",
    "sym_t = T.ivector('target') # a symbolic variable taking on the value of the target batch.\n",
    "\n",
    "# Get network output\n",
    "train_out = lasagne.layers.get_output(l_out, {l_in: sym_x}, deterministic=False)\n",
    "eval_out = lasagne.layers.get_output(l_out, {l_in: sym_x}, deterministic=True)\n",
    "\n",
    "# Get list of all trainable parameters in the network.\n",
    "all_params = lasagne.layers.get_all_params(l_out, trainable=True)\n",
    "\n",
    "# print shapes of all the parameters in the network.\n",
    "for p in all_params:\n",
    "    print(p, p.get_value().shape)"
   ]
  },
  {
   "cell_type": "markdown",
   "metadata": {},
   "source": [
    "``train_out`` will be a symbolic variable representing the network output. Using ``train_out`` we  can define the [crossentropy error](http://deeplearning.net/software/theano/library/tensor/nnet/nnet.html#tensor.nnet.categorical_crossentropy) used for training the network.\n",
    "We ```mean``` over all the samples in the mini-batch.\n"
   ]
  },
  {
   "cell_type": "code",
   "execution_count": 5,
   "metadata": {
    "collapsed": true
   },
   "outputs": [],
   "source": [
    "cost_train = T.nnet.categorical_crossentropy(train_out, sym_t).mean()\n",
    "cost_eval = T.nnet.categorical_crossentropy(eval_out, sym_t).mean()"
   ]
  },
  {
   "cell_type": "markdown",
   "metadata": {},
   "source": [
    "When we train a neural network we update the parameters in direction of the negative gradient w.r.t the cost.\n",
    "We can use ``T.grad`` to get the gradients for all parameters in the network w.r.t ``cost_train``.\n",
    "Imagine that ```cost_train``` is a function and we want to go downhill. We go downhill by changing the value of the parameters in direction of the negative gradient. \n",
    "\n",
    "Finally we can use __[lasagne.updates.sgd](http://lasagne.readthedocs.io/en/latest/modules/updates.html#lasagne.updates.sgd)__ to calculate the stochastic gradient descent (SGD) update rule for each parameter in the network. ``updates`` is a dictionary of the parameter update rules.\n",
    "\n",
    "Here's a small animation of [different optimizers doing](http://lasagne.readthedocs.io/en/latest/modules/updates.html) gradient descent: http://imgur.com/a/Hqolp . E.g why saddle points might be difficult."
   ]
  },
  {
   "cell_type": "code",
   "execution_count": 6,
   "metadata": {
    "collapsed": false
   },
   "outputs": [],
   "source": [
    "# Let Theano do its magic and get all the gradients we need for training. Essentially T.grad does backprop i.e. get the \n",
    "# gradient of cost_train w.r.t. the parameters.\n",
    "all_grads = T.grad(cost_train, all_params)\n",
    "\n",
    "# Set the update function for parameters \n",
    "# you might want to experiment with more advanded update schemes like rmsprob, adadelta etc.\n",
    "updates = lasagne.updates.adam(all_grads, all_params, learning_rate=0.01)"
   ]
  },
  {
   "cell_type": "markdown",
   "metadata": {},
   "source": [
    "The final step is to compile Theano functions for the network. For theano functions we need to specify which inputs the function should take. For our network that is ``sym_x``: the input data and ``sym_t``: the targets. Secondly we need to specify which outputs we want the network to return. In our case that is the cross-entropy cost and the network output.\n",
    "\n",
    "When we compile ``f_train`` we additionally give the update dictionary as input. This tells Theano to update the network parameters with the update rules everytime we call ``f_train``. "
   ]
  },
  {
   "cell_type": "code",
   "execution_count": 7,
   "metadata": {
    "collapsed": true
   },
   "outputs": [],
   "source": [
    "f_eval = theano.function(inputs=[sym_x, sym_t],\n",
    "                         outputs=[cost_eval, eval_out])\n",
    "\n",
    "f_train = theano.function(inputs=[sym_x, sym_t],\n",
    "                          outputs=[cost_train, eval_out],\n",
    "                          updates=updates)\n",
    "\n",
    "#now you have three functions. \n",
    "# f_train(X,y) -> cost, y_pred which will update the parameters using backprop each time you call it, only use this on the training data!\n",
    "# f_test(X,y) -> cost, y_pred which only calculates the forward pass\n",
    "\n",
    "#This us just a helper function for plotting the decision boundaries between the two classes\n",
    "f_pred = theano.function(inputs=[sym_x],\n",
    "                         outputs=eval_out)"
   ]
  },
  {
   "cell_type": "code",
   "execution_count": 8,
   "metadata": {
    "collapsed": false,
    "scrolled": true
   },
   "outputs": [
    {
     "name": "stdout",
     "output_type": "stream",
     "text": [
      "Epoch 0, Train Cost: 0.634\tVal Cost: 0.606\n",
      "\n",
      "Test Cost: 0.048\n"
     ]
    },
    {
     "data": {
      "text/plain": [
       "(<matplotlib.text.Text at 0x1125612d0>, <matplotlib.text.Text at 0x1125761d0>)"
      ]
     },
     "execution_count": 8,
     "metadata": {},
     "output_type": "execute_result"
    },
    {
     "data": {
      "image/png": "[encoded data removed]",
      "text/plain": [
       "<matplotlib.figure.Figure at 0x110ff4250>"
      ]
     },
     "metadata": {},
     "output_type": "display_data"
    },
    {
     "data": {
      "image/png": "[encoded data removed]",
      "text/plain": [
       "<matplotlib.figure.Figure at 0x1110dc5d0>"
      ]
     },
     "metadata": {},
     "output_type": "display_data"
    },
    {
     "data": {
      "image/png": "[encoded data removed]",
      "text/plain": [
       "<matplotlib.figure.Figure at 0x112523cd0>"
      ]
     },
     "metadata": {},
     "output_type": "display_data"
    }
   ],
   "source": [
    "# Training loop\n",
    "plot_decision_boundary(lambda x: f_pred(x), X_val,y_val)\n",
    "plt.title(\"Untrained Classifier\")\n",
    "\n",
    "num_epochs = 100\n",
    "\n",
    "train_cost, val_cost = [],[]\n",
    "for e in range(num_epochs):\n",
    "    out = f_train(X_tr,y_tr)\n",
    "    #out = [cost, y_pred]\n",
    "    train_cost += [out[0]]\n",
    "    \n",
    "    out = f_eval(X_val,y_val)\n",
    "    val_cost += [out[0]]\n",
    "\n",
    "    if e % 100 == 0:\n",
    "        print(\"Epoch %i, Train Cost: %0.3f\\tVal Cost: %0.3f\"%(e, train_cost[-1],val_cost[-1]))\n",
    "    \n",
    "    \n",
    "out = f_eval(X_te,y_te)\n",
    "test_cost = out[0]\n",
    "print(\"\\nTest Cost: %0.3f\"%(test_cost))\n",
    "\n",
    "plot_decision_boundary(lambda x: f_pred(x), X_te, y_te)\n",
    "plt.title(\"Trained Classifier\")\n",
    "\n",
    "epoch = np.arange(len(train_cost))\n",
    "plt.figure()\n",
    "plt.plot(epoch,train_cost,'r',epoch,val_cost,'b')\n",
    "plt.legend(['Train Loss','Val Loss'])\n",
    "plt.xlabel('Updates'), plt.ylabel('Loss')\n",
    "\n"
   ]
  },
  {
   "cell_type": "markdown",
   "metadata": {},
   "source": [
    "# Assignments Half Moon (with answers)\n",
    "\n",
    " 1) A linear logistic classifier is only able to create a linear decision boundary. Change the Logistic classifier into a (non-linear) neural network by inserting a dense hidden layer between the input and output layers of the model\n",
    " \n",
    "**We have added an extra layer in the third codeblock. Uncomment the lines in the third codeblock to add even more layers (but remember to change the input layer of l_out). **\n",
    " \n",
    " 2) Experiment with multiple hidden layers or more / less hidden units. What happens to the decision boundary?\n",
    "\n",
    "**The more layers and hidden units used, the more flexible the boundary is. Without hidden layers, the boundary is simply a straight line, but with many hidden layers and units, the boundary can have a complicated curved shape.**\n",
    " \n",
    " 3) Overfitting: When increasing the number of hidden layers / units the neural network will fit the training data better by creating a highly nonlinear decision boundary. If the model is too complex it will often generalize poorly to new data (validation and test set). Can you observe this from the training and validation errors? \n",
    "\n",
    "**If the notebook is run without any changes (two hidden layers, each with 200 units, and using 100 epochs), we see that the validation loss is smallest at around 40 epochs. Afterward 40 epochs, the validation loss grows, which suggests that the networks perform worse after 40 epochs. This is clear sign that after this point, the network is being overfitted to the training data.**\n",
    "\n",
    " 4) We used the vanilla stocastic gradient descent algorithm for parameter updates. This is usually slow to converge and more sophisticated pseudo-second-order methods usually works better. Try changing the optimizer to [adam or adamax](http://lasagne.readthedocs.io/en/latest/modules/updates.html) (lasagne.updates.adam, lasagne.updates.adamax)\n",
    " **We have done so and these methods also worked. It is important to keep in mind that parameters must be tuned individually for each method.**"
   ]
  },
  {
   "cell_type": "markdown",
   "metadata": {},
   "source": [
    "# MNIST Exercise\n",
    "MNIST is a dataset that is often used for benchmarking. The MNIST dataset consists of 70,000 images of handwritten digits from 0-9. The dataset is split into 50,000 images for training, 10,000 images for validation and 10,000 images for testing. The images are 28x28 pixels, where each pixel represents a normalised value between 0-255 (0=black and 255=white).\n",
    "\n",
    "### Permutation invariance...\n",
    "We use a feed-forward neural network to classify the 28x28 MNIST images. ``num_features`` is therefore 28x28=784, hence we represent each image as a vector. The ordering of the pixels in the vector does not matter, so we could permutate all images using the same permuatation and still get the same performance. (You are of course encouraged to try this by ``numpy.random.permutation`` to get a random permutation :)). This task is therefore called the _permutation invariant_ MNIST. Obviously this throws away a lot of structure in the data. Next week we'll fix this with the convolutional neural network that encodes prior knowledge about data that has either spatial or temporal structure.\n",
    "\n",
    "### Ballpark estimates of hyperparameters\n",
    "__Optimizers:__\n",
    "    1. SGD + Momentum: learning rate 1.0 - 0.1 \n",
    "    2. ADAM: learning rate 3*1e-4 - 1e-5\n",
    "    3. RMSPROP: somewhere between SGD and ADAM\n",
    "\n",
    "__Regularization:__\n",
    "    1. Dropout. Dropout rate 0.1-0.5.\n",
    "    2. L2/L1 regularization.  http://lasagne.readthedocs.io/en/latest/modules/regularization.html . We don't use this that often but 1e-4  -  1e-8.\n",
    "    \n",
    "    3. Batchnorm: Batchnorm also act as a regularizer\n",
    "    \n",
    "__Parameter initialization__\n",
    "    Parameter initialization is extremely important. [Lasagne has a lot of different units](http://lasagne.readthedocs.io/en/latest/modules/init.html). Often used initializer use\n",
    "    1. He\n",
    "    2. Glorot\n",
    "    3. Uniform or Normal with small scale. (0.1 - 0.01)\n",
    "    4. Orthogonal (I find that this works very well for RNNs)\n",
    "\n",
    "Bias is nearly always initialized to zero. \n",
    "\n",
    "__Number of hidden units and network structure__\n",
    "   Probably as big network as possible and then apply regularization. You'll have to experiment :). One rarely goes below 512 units for feedforward networks unless you are training on CPU...\n",
    "   There is some research into stochastic depth networks: https://arxiv.org/pdf/1603.09382v2.pdf, but in general this is trial and error. \n",
    "\n",
    "__Nonlinearity__: [The most commonly used nonliearities are](http://lasagne.readthedocs.io/en/latest/modules/nonlinearities.html)\n",
    "    \n",
    "    1. ReLU\n",
    "    2. Leaky ReLU.\n",
    "    3. Elu\n",
    "    3. Sigmoids are used if your output is binary. It is not used in the hidden layers (anymore). Limits the output between 0 and 1.\n",
    "    4. Softmax is used as output if you have a classification problem. Normalizes the output to 1.\n",
    "\n",
    "\n",
    "See the plot below.\n",
    "\n",
    "__mini-batch size__\n",
    "   Usually people use 16-256. Bigger is not always better. With smaller mini-batch sizes you get more updates and your model might converge faster. Also small batchsizes use less memory  -> you can use a bigger model.\n",
    "\n",
    "Hyperparameters can be found by experience (guessing) or some search procedure. Random search is easy to implement and performs decent: http://www.jmlr.org/papers/volume13/bergstra12a/bergstra12a.pdf . \n",
    "More advanced search procedures include [SPEARMINT](https://github.com/JasperSnoek/spearmint) and many others. "
   ]
  },
  {
   "cell_type": "code",
   "execution_count": null,
   "metadata": {
    "collapsed": false
   },
   "outputs": [],
   "source": [
    "# PLOT OF DIFFERENT OUTPUT USNITS\n",
    "x = np.linspace(-6, 6, 100)\n",
    "relu = lambda x: np.maximum(0, x)\n",
    "leaky_relu = lambda x: np.maximum(0, x) + 0.1*np.minimum(0, x) # probably a slow implementation....\n",
    "elu = lambda x: (x > 0)*x + (1 - (x > 0))*(np.exp(x) - 1) \n",
    "sigmoid = lambda x: (1+np.exp(-x))**(-1)\n",
    "\n",
    "plt.figure(figsize=(6,6))\n",
    "plt.plot(x, relu(x), label='ReLU', lw=2)\n",
    "plt.plot(x, leaky_relu(x), label='Leaky ReLU',lw=2)\n",
    "plt.plot(x, elu(x), label='Elu', lw=2)\n",
    "plt.plot(x, sigmoid(x), label='Sigmoid',lw=2)\n",
    "plt.legend(loc=2, fontsize=16)\n",
    "plt.title('Non-linearities', fontsize=20)\n",
    "plt.ylim([-2, 5])\n",
    "plt.xlim([-6, 6])"
   ]
  },
  {
   "cell_type": "markdown",
   "metadata": {},
   "source": [
    "## MNIST\n",
    "First let's load the MNIST dataset and plot a few examples:"
   ]
  },
  {
   "cell_type": "code",
   "execution_count": null,
   "metadata": {
    "collapsed": false
   },
   "outputs": [],
   "source": [
    "#To speed up training we'll only work on a subset of the data\n",
    "data = np.load('mnist.npz')\n",
    "num_classes = 10\n",
    "x_train = data['X_train'][:1000].astype('float32')\n",
    "targets_train = data['y_train'][:1000].astype('int32')\n",
    "\n",
    "x_valid = data['X_valid'][:500].astype('float32')\n",
    "targets_valid = data['y_valid'][:500].astype('int32')\n",
    "\n",
    "x_test = data['X_test'][:500].astype('float32')\n",
    "targets_test = data['y_test'][:500].astype('int32')"
   ]
  },
  {
   "cell_type": "code",
   "execution_count": null,
   "metadata": {
    "collapsed": false
   },
   "outputs": [],
   "source": [
    "#plot a few MNIST examples\n",
    "idx = 0\n",
    "canvas = np.zeros((28*10, 10*28))\n",
    "for i in range(10):\n",
    "    for j in range(10):\n",
    "        canvas[i*28:(i+1)*28, j*28:(j+1)*28] = x_train[idx].reshape((28, 28))\n",
    "        idx += 1\n",
    "plt.figure(figsize=(7, 7))\n",
    "plt.axis('off')\n",
    "plt.imshow(canvas, cmap='gray')\n",
    "plt.title('MNIST handwritten digits')\n",
    "plt.show()"
   ]
  },
  {
   "cell_type": "code",
   "execution_count": null,
   "metadata": {
    "collapsed": false
   },
   "outputs": [],
   "source": [
    "#define the model\n",
    "num_class = 10\n",
    "num_features = x_train.shape[1]\n",
    "\n",
    "l_in = InputLayer(shape=(None,num_features))\n",
    "l_hid = DenseLayer(incoming=l_in, num_units=512, nonlinearity=tanh)\n",
    "l_hid_2 = DenseLayer(incoming=l_hid, num_units=512, nonlinearity=tanh)\n",
    "l_dropout_2 = DropoutLayer(incoming=l_hid_2, p=0.4)     \n",
    "l_hid_3 = DenseLayer(incoming=l_dropout_2, num_units=512, nonlinearity=tanh)\n",
    "l_hid_4 = DenseLayer(incoming=l_hid_3, num_units=512, nonlinearity=tanh)\n",
    "l_out = DenseLayer(incoming=l_hid_4, num_units=num_class, nonlinearity=softmax)"
   ]
  },
  {
   "cell_type": "code",
   "execution_count": null,
   "metadata": {
    "collapsed": false
   },
   "outputs": [],
   "source": [
    "sym_x = T.matrix('sym_x') # a symbolic variable taking on the value of a input batch.\n",
    "sym_t = T.ivector('sym_t') # a symbolic variable taking on the value of the target batch.\n",
    "\n",
    "# Get network output\n",
    "train_out = lasagne.layers.get_output(l_out, sym_x, deterministic=False)\n",
    "eval_out = lasagne.layers.get_output(l_out, sym_x, deterministic=True)\n",
    "\n",
    "\n",
    "# Get list of all trainable parameters in the network.\n",
    "all_params = lasagne.layers.get_all_params(l_out, trainable=True)\n",
    "\n",
    "cost = T.nnet.categorical_crossentropy(train_out+1e-8, sym_t).mean()\n",
    "# Let Theano do its magic and get all the gradients we need for training\n",
    "all_grads = T.grad(cost, all_params)\n",
    "\n",
    "\n",
    "# Set the update function for parameters \n",
    "# you might wan't to experiment with more advanded update schemes like rmsprob, adadelta etc.\n",
    "updates = lasagne.updates.sgd(all_grads, all_params, learning_rate=0.01)\n",
    "\n",
    "f_val = theano.function([sym_x, sym_t],\n",
    "                         [cost],on_unused_input='warn')\n",
    "\n",
    "f_eval = theano.function([sym_x],\n",
    "                     eval_out, on_unused_input='warn')\n",
    "\n",
    "f_train = theano.function([sym_x, sym_t],\n",
    "                          [cost],\n",
    "                          updates=updates, on_unused_input='warn')"
   ]
  },
  {
   "cell_type": "code",
   "execution_count": null,
   "metadata": {
    "collapsed": false
   },
   "outputs": [],
   "source": [
    "#Test the forward pass\n",
    "x = np.random.normal(0,1, (45, 28*28)).astype('float32') #dummy data\n",
    "\n",
    "model = lasagne.layers.get_output(l_out, sym_x)\n",
    "out = model.eval({sym_x:x}) #this could also include mask etc if used\n",
    "print(\"l_out dim(%i, %i).\" % out.shape)"
   ]
  },
  {
   "cell_type": "markdown",
   "metadata": {},
   "source": [
    "# Build the training loop.\n",
    "We train the network by calculating the gradient w.r.t the cost function and update the parameters in direction of the negative gradient. \n",
    "\n",
    "\n",
    "When training neural networks you always use mini batches. Instead of calculating the average gradient using the entire dataset you approximate the gradient using a mini-batch of typically 16 to 256 samples. The parameters are updated after each mini batch.\n",
    "\n",
    "We build a loop that iterates over the training data. Remember that the parameters are updated each time ``f_train`` is called."
   ]
  },
  {
   "cell_type": "code",
   "execution_count": null,
   "metadata": {
    "collapsed": false
   },
   "outputs": [],
   "source": [
    "from confusionmatrix import ConfusionMatrix\n",
    "batch_size = 100\n",
    "num_epochs = 100\n",
    "learning_rate = 0.1\n",
    "num_samples_train = x_train.shape[0]\n",
    "num_batches_train = num_samples_train // batch_size\n",
    "num_samples_valid = x_valid.shape[0]\n",
    "num_batches_valid = num_samples_valid // batch_size\n",
    "train_acc, train_loss = [], []\n",
    "valid_acc, valid_loss = [], []\n",
    "test_acc, test_loss = [], []\n",
    "cur_loss = 0\n",
    "loss = []\n",
    "loss_val= []\n",
    "for epoch in range(num_epochs):\n",
    "    #Forward->Backprob->Update params\n",
    "    cur_loss = 0\n",
    "    for i in range(num_batches_train):\n",
    "        idx = range(i*batch_size, (i+1)*batch_size)\n",
    "        x_batch = x_train[idx]\n",
    "        target_batch = targets_train[idx]    \n",
    "        batch_loss = f_train(x_batch,target_batch) #this will do the complete backprob pass\n",
    "        cur_loss += batch_loss[0]\n",
    "    loss += [cur_loss/batch_size]\n",
    "    \n",
    "    #Own code\n",
    "    cur_loss_d = 0\n",
    "    for i in range(num_batches_valid):\n",
    "        idx_d = range(i*batch_size, (i+1)*batch_size)\n",
    "        x_batch_d = x_valid[idx_d]\n",
    "        target_batch_d = targets_valid[idx_d]    \n",
    "        batch_loss_d = f_val(x_batch_d,target_batch_d) #this will do the complete backprob pass\n",
    "        cur_loss_d += batch_loss_d[0]\n",
    "    loss_val += [cur_loss_d/batch_size]\n",
    "    \n",
    "    confusion_valid = ConfusionMatrix(num_classes)\n",
    "    confusion_train = ConfusionMatrix(num_classes)\n",
    "    #Train\n",
    "    for i in range(num_batches_train):\n",
    "        idx = range(i*batch_size, (i+1)*batch_size)\n",
    "        x_batch = x_train[idx]\n",
    "        targets_batch = targets_train[idx]\n",
    "        net_out = f_eval(x_batch)   \n",
    "        preds = np.argmax(net_out, axis=-1) \n",
    "        confusion_train.batch_add(targets_batch, preds)\n",
    "    confusion_valid = ConfusionMatrix(num_classes)\n",
    "   \n",
    "    #validation\n",
    "    for i in range(num_batches_valid):\n",
    "        idx = range(i*batch_size, (i+1)*batch_size)\n",
    "        x_batch = x_valid[idx]\n",
    "        targets_batch = targets_valid[idx]\n",
    "        net_out = f_eval(x_batch)   \n",
    "        preds = np.argmax(net_out, axis=-1) \n",
    "    \n",
    "    \n",
    "        confusion_valid.batch_add(targets_batch, preds)\n",
    "        #cur_loss_d += net_out[0]\n",
    "    \n",
    "    \n",
    "    train_acc_cur = confusion_train.accuracy()\n",
    "    valid_acc_cur = confusion_valid.accuracy()\n",
    "    train_acc += [train_acc_cur]\n",
    "    valid_acc += [valid_acc_cur]\n",
    "    print(\"Epoch %i : Train Loss %e , Train acc %f,  Valid acc %f \" \\\n",
    "    % (epoch+1, loss[-1], train_acc_cur, valid_acc_cur))"
   ]
  },
  {
   "cell_type": "code",
   "execution_count": null,
   "metadata": {
    "collapsed": false
   },
   "outputs": [],
   "source": [
    "#Plot training loss and validation loss as a function of the number of epochs.\n",
    "epoch = np.arange(len(train_acc))\n",
    "plt.figure(figsize=(12,6))\n",
    "plt.plot(epoch,train_acc,'r',epoch,valid_acc,'b')\n",
    "plt.legend(['Train accuracy','Val accuracy'])\n",
    "plt.xlabel('Updates'), plt.ylabel('Accuracy')"
   ]
  },
  {
   "cell_type": "code",
   "execution_count": null,
   "metadata": {
    "collapsed": false,
    "scrolled": true
   },
   "outputs": [],
   "source": [
    "#Plot training loss and validation loss as a function of the number of epochs.\n",
    "epoch = np.arange(len(train_acc))\n",
    "plt.figure(figsize=(12,6))\n",
    "plt.plot(epoch,loss,'r',epoch,loss_val,'b')\n",
    "plt.legend(['Train Loss','Val Loss'])\n",
    "plt.xlabel('Updates'), plt.ylabel('Loss')"
   ]
  },
  {
   "cell_type": "markdown",
   "metadata": {},
   "source": [
    "# Assignment Half-moon\n",
    "\n",
    "# MNIST Exercise\n",
    "\n",
    "We tried many configurations for the neural network. The validation accuracy varied between 70% and 85%. In the end we chose a network with 4 hidden layers, each with 512 units and using tanh as the activation function. The optimization algorithm used was adam with learning rate $\\eta$=0.01. The network was trained for 100 epochs\n",
    "\n",
    "**Question 1 from \"more questions\"**: If a network performs in the following way, it is a sign that the network is overfitted to the traning data:\n",
    "\n",
    "*Performance on training data*: The network performs badly/mediocre on the training data in the early epochs and better and better as the number of epochs rises. \n",
    "\n",
    "*Performance on validation data* The network performs badly/mediocre on the validation data in the early epochs, then performs better after some number of epochs, but eventually starts to perform worse in the later epochs. In other words, the graph of the performance of the network on the validation data has a somewhat parabolic shape.\n",
    "\n",
    "One important thing we learned is that the above sign of overfitting is hard to detect if one only inspects plots of the training accuracy and validation accuracy. Only after inspecting plots of the training loss and validation loss were we able to see signs of overfitting. For an example of this, see the plots above. \n",
    "The top plot shows accuracy. The training accuracy rises as the number of epochs grows, eventually reaching 1.00. However, the validation accuracy remains steady. The bottom plot shows loss. The training loss goes towards 0, i.e. very good performance on the training data. The validation loss dips at first, but then rises as the neural network is overfitted, i.e. we see a somewhat parabolic shape. In conclusion, only the second plot shows the telltale sign of overfitting. We believe that this is because accuracy is a not smooth function of the weighs and biases, while the loss function is a smooth function of the weights and biases.\n",
    "\n",
    "In conclusion, we did see some signs of overfitting when looking at plots of loss function.\n",
    "\n",
    "**Question 2 and 3 from \"more questions\"**: Now we relay the results of using different methods to avoid overfitting.\n",
    "\n",
    "* We tried to reduce overfitting my adding dropout layers to the network. We also plot the loss for the train and validations sets to see overfitting. \n",
    "\n",
    "    * When using one layer between 2 and 3 we don't really see that big of a change in the loss function other than it becomes more jagged \n",
    "\n",
    "    * We then added two dropout layers to a network with 4 hidden-layers, adding the dropout-layers between the 2nd and 3rd and between the 3rd and 4th layers. We still didn't see that big of a change in the loss funciton other than it became jagged.\n",
    "        \n",
    "    \n",
    "* After this we tried to regularize the network by penalizing the L2 and the L1 norm.\n",
    "\n",
    "    * When trying to regularize the network by penalizing the L2 norm we get a much worse accuracy around 10% which doesn't seem right, this might be because the learning rate was wrong when training with the L2 penalizer.  \n",
    "\n",
    "    * When penalizing the L1 norm we see a difference. It gives us a nice loss function when running validation, but it still looks alot like the loss function when we don't try to correct overfit. \n",
    "    \n",
    "    * We also tried to penalize the L1 norm and add a dropout layer, which again didn't give us a result that was noticeably better than the network without methods to reduce overfitting.  \n",
    "    \n",
    "* Finaly we can conclude that these methods slightly reduce overfit in our example, however the dataset is probably too small for these methods to make a difference."
   ]
  },
  {
   "cell_type": "code",
   "execution_count": null,
   "metadata": {
    "collapsed": true
   },
   "outputs": [],
   "source": []
  }
 ],
 "metadata": {
  "anaconda-cloud": {},
  "kernelspec": {
   "display_name": "Python [Root]",
   "language": "python",
   "name": "Python [Root]"
  },
  "language_info": {
   "codemirror_mode": {
    "name": "ipython",
    "version": 2
   },
   "file_extension": ".py",
   "mimetype": "text/x-python",
   "name": "python",
   "nbconvert_exporter": "python",
   "pygments_lexer": "ipython2",
   "version": "2.7.12"
  }
 },
 "nbformat": 4,
 "nbformat_minor": 0
}
